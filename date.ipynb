{
 "cells": [
  {
   "cell_type": "code",
   "execution_count": 1,
   "metadata": {},
   "outputs": [],
   "source": [
    "from datetime import datetime,timedelta"
   ]
  },
  {
   "cell_type": "code",
   "execution_count": 11,
   "metadata": {},
   "outputs": [],
   "source": [
    "def get_start(start, week):\n",
    "    date_end = datetime.strptime(start, '%b %d %Y')\n",
    "    print(date_end.strftime(\"%d-%m-%Y\"),end=\"\\n\\n\")\n",
    "    time_delta = timedelta(weeks=week)\n",
    "    date_start = date_end - time_delta\n",
    "    # print(date_start)\n",
    "    return date_start.strftime(\"%d-%m-%Y\")\n"
   ]
  },
  {
   "cell_type": "code",
   "execution_count": 12,
   "metadata": {},
   "outputs": [
    {
     "name": "stdout",
     "output_type": "stream",
     "text": [
      "25-11-2021\n",
      "\n",
      "28-10-2021\n"
     ]
    }
   ],
   "source": [
    "print(get_start('Nov 25 2021',4))"
   ]
  },
  {
   "cell_type": "code",
   "execution_count": 13,
   "metadata": {},
   "outputs": [
    {
     "name": "stdout",
     "output_type": "stream",
     "text": [
      "05-12-2021\n",
      "\n",
      "12-09-2021\n"
     ]
    }
   ],
   "source": [
    "print(get_start('Dec 5 2021',12))"
   ]
  },
  {
   "cell_type": "code",
   "execution_count": 14,
   "metadata": {},
   "outputs": [
    {
     "name": "stdout",
     "output_type": "stream",
     "text": [
      "17-01-2022\n",
      "\n",
      "25-10-2021\n"
     ]
    }
   ],
   "source": [
    "print(get_start('Jan 17 2022',12))"
   ]
  },
  {
   "cell_type": "code",
   "execution_count": 15,
   "metadata": {},
   "outputs": [
    {
     "name": "stdout",
     "output_type": "stream",
     "text": [
      "10-02-2022\n",
      "\n",
      "21-10-2021\n"
     ]
    }
   ],
   "source": [
    "print(get_start('Feb 10 2022',16))"
   ]
  },
  {
   "cell_type": "code",
   "execution_count": 17,
   "metadata": {},
   "outputs": [
    {
     "name": "stdout",
     "output_type": "stream",
     "text": [
      "08-06-2022\n",
      "\n",
      "11-05-2022\n"
     ]
    }
   ],
   "source": [
    "print(get_start('Jun 8 2022',4))"
   ]
  },
  {
   "cell_type": "code",
   "execution_count": 18,
   "metadata": {},
   "outputs": [
    {
     "name": "stdout",
     "output_type": "stream",
     "text": [
      "08-06-2022\n",
      "\n",
      "16-02-2022\n"
     ]
    }
   ],
   "source": [
    "print(get_start('Jun 8 2022',16))"
   ]
  },
  {
   "cell_type": "code",
   "execution_count": 19,
   "metadata": {},
   "outputs": [
    {
     "name": "stdout",
     "output_type": "stream",
     "text": [
      "08-06-2022\n",
      "\n",
      "13-04-2022\n"
     ]
    }
   ],
   "source": [
    "print(get_start('Jun 8 2022',8))"
   ]
  }
 ],
 "metadata": {
  "interpreter": {
   "hash": "69d028b15c6111d3ad2ea1942b33feef81ddfdfdcb7919953a2752bb784b27dd"
  },
  "kernelspec": {
   "display_name": "Python 3.8.10 ('venv': venv)",
   "language": "python",
   "name": "python3"
  },
  "language_info": {
   "codemirror_mode": {
    "name": "ipython",
    "version": 3
   },
   "file_extension": ".py",
   "mimetype": "text/x-python",
   "name": "python",
   "nbconvert_exporter": "python",
   "pygments_lexer": "ipython3",
   "version": "3.8.10"
  },
  "orig_nbformat": 4
 },
 "nbformat": 4,
 "nbformat_minor": 2
}
